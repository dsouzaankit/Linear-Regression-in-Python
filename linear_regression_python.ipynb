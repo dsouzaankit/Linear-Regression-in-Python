{
 "cells": [
  {
   "cell_type": "code",
   "execution_count": 22,
   "metadata": {},
   "outputs": [],
   "source": [
    "import numpy as np\n",
    "import pandas as pd\n",
    "from scipy import stats as st\n",
    "import matplotlib.pyplot as plt\n",
    "from sklearn import linear_model\n",
    "from sklearn.metrics import mean_squared_error, r2_score\n",
    "from sklearn.model_selection import KFold\n",
    "%matplotlib inline"
   ]
  },
  {
   "cell_type": "code",
   "execution_count": 23,
   "metadata": {},
   "outputs": [],
   "source": [
    "df1=pd.read_csv('Crime Rates & Funding Dataset.csv')\n",
    "df2=pd.read_csv('Demographics Dataset.csv')\n",
    "# Create derived variable, better correlation to crime\n",
    "df2['25 only high school']=df2['% of People 25 Years+ with 4 or more Years of High School']-df2['% of people 25 years+ with at least 4 years of college']\n",
    "df3=pd.merge(df1, df2, on='District ID ')"
   ]
  },
  {
   "cell_type": "code",
   "execution_count": 24,
   "metadata": {},
   "outputs": [
    {
     "data": {
      "text/plain": [
       "Index(['District ID ', 'Crime Rate \\n(per 1M Residents)',\n",
       "       'Violent Crime Rate (per 100K Residents)',\n",
       "       'Annual Police Funding (Dollars per Resident)', 'Unnamed: 4',\n",
       "       'Unnamed: 5', 'Unnamed: 6', 'Unnamed: 7', 'Unnamed: 8', 'Unnamed: 9',\n",
       "       'Unnamed: 10', 'Unnamed: 11',\n",
       "       '% of People 25 Years+ with 4 or more Years of High School',\n",
       "       '% of 16 to 19 year-olds not in highschool and not highschool graduates',\n",
       "       '% of 18 to 24 year-olds in college',\n",
       "       '% of people 25 years+ with at least 4 years of college',\n",
       "       '25 only high school'],\n",
       "      dtype='object')"
      ]
     },
     "execution_count": 24,
     "metadata": {},
     "output_type": "execute_result"
    }
   ],
   "source": [
    "df3.columns"
   ]
  },
  {
   "cell_type": "code",
   "execution_count": 7,
   "metadata": {},
   "outputs": [
    {
     "data": {
      "text/plain": [
       "(50, 17)"
      ]
     },
     "execution_count": 7,
     "metadata": {},
     "output_type": "execute_result"
    }
   ],
   "source": [
    "df3.shape"
   ]
  },
  {
   "cell_type": "code",
   "execution_count": 8,
   "metadata": {},
   "outputs": [
    {
     "data": {
      "text/plain": [
       "(0.32251867184634042, 0.022354665962212583)"
      ]
     },
     "execution_count": 8,
     "metadata": {},
     "output_type": "execute_result"
    }
   ],
   "source": [
    "st.pearsonr(df3['Crime Rate \\n(per 1M Residents)'], df3['% of 16 to 19 year-olds not in highschool and not highschool graduates'])"
   ]
  },
  {
   "cell_type": "code",
   "execution_count": 9,
   "metadata": {},
   "outputs": [
    {
     "data": {
      "text/plain": [
       "(0.53319778550910424, 6.6990721098140273e-05)"
      ]
     },
     "execution_count": 9,
     "metadata": {},
     "output_type": "execute_result"
    }
   ],
   "source": [
    "st.pearsonr(df3['Crime Rate \\n(per 1M Residents)'], df3['Annual Police Funding (Dollars per Resident)'])"
   ]
  },
  {
   "cell_type": "code",
   "execution_count": 10,
   "metadata": {},
   "outputs": [
    {
     "data": {
      "text/plain": [
       "(-0.13545932726733276, 0.34827096184251016)"
      ]
     },
     "execution_count": 10,
     "metadata": {},
     "output_type": "execute_result"
    }
   ],
   "source": [
    "# Very weak negative correlation\n",
    "st.pearsonr(df3['Crime Rate \\n(per 1M Residents)'], df3['% of People 25 Years+ with 4 or more Years of High School'])"
   ]
  },
  {
   "cell_type": "code",
   "execution_count": 11,
   "metadata": {},
   "outputs": [
    {
     "data": {
      "text/plain": [
       "(-0.026282669130029603, 0.85622851981132486)"
      ]
     },
     "execution_count": 11,
     "metadata": {},
     "output_type": "execute_result"
    }
   ],
   "source": [
    "# Correlation close to zero\n",
    "st.pearsonr(df3['Crime Rate \\n(per 1M Residents)'], df3['% of people 25 years+ with at least 4 years of college'])"
   ]
  },
  {
   "cell_type": "code",
   "execution_count": 12,
   "metadata": {},
   "outputs": [
    {
     "data": {
      "text/plain": [
       "(-0.16242073259790576, 0.25976696085123374)"
      ]
     },
     "execution_count": 12,
     "metadata": {},
     "output_type": "execute_result"
    }
   ],
   "source": [
    "# However, derived variable shows stronger negative correlation\n",
    "st.pearsonr(df3['Crime Rate \\n(per 1M Residents)'], df3['25 only high school'])"
   ]
  },
  {
   "cell_type": "code",
   "execution_count": 13,
   "metadata": {},
   "outputs": [
    {
     "data": {
      "text/plain": [
       "<matplotlib.collections.PathCollection at 0x800cf70>"
      ]
     },
     "execution_count": 13,
     "metadata": {},
     "output_type": "execute_result"
    },
    {
     "data": {
      "image/png": "[encoded data removed]",
      "text/plain": [
       "<matplotlib.figure.Figure at 0x3092150>"
      ]
     },
     "metadata": {},
     "output_type": "display_data"
    }
   ],
   "source": [
    "plt.scatter(df3['25 only high school'], df3['Crime Rate \\n(per 1M Residents)'],  color='black')"
   ]
  },
  {
   "cell_type": "code",
   "execution_count": 14,
   "metadata": {},
   "outputs": [
    {
     "data": {
      "text/plain": [
       "<matplotlib.collections.PathCollection at 0xd00b9d0>"
      ]
     },
     "execution_count": 14,
     "metadata": {},
     "output_type": "execute_result"
    },
    {
     "data": {
      "image/png": "[encoded data removed]",
      "text/plain": [
       "<matplotlib.figure.Figure at 0xc015f10>"
      ]
     },
     "metadata": {},
     "output_type": "display_data"
    }
   ],
   "source": [
    "plt.scatter(df3['% of 16 to 19 year-olds not in highschool and not highschool graduates'], df3['Crime Rate \\n(per 1M Residents)'],  color='black')"
   ]
  },
  {
   "cell_type": "code",
   "execution_count": 15,
   "metadata": {},
   "outputs": [
    {
     "data": {
      "text/plain": [
       "<matplotlib.collections.PathCollection at 0xd072ed0>"
      ]
     },
     "execution_count": 15,
     "metadata": {},
     "output_type": "execute_result"
    },
    {
     "data": {
      "image/png": "[encoded data removed]",
      "text/plain": [
       "<matplotlib.figure.Figure at 0xcfe0b10>"
      ]
     },
     "metadata": {},
     "output_type": "display_data"
    }
   ],
   "source": [
    "plt.scatter(df3['Annual Police Funding (Dollars per Resident)'], df3['Crime Rate \\n(per 1M Residents)'],  color='black')"
   ]
  },
  {
   "cell_type": "code",
   "execution_count": 16,
   "metadata": {},
   "outputs": [
    {
     "data": {
      "text/plain": [
       "(array([ 47.,  35.,  17.]),\n",
       " array([  4.,  14.,  24.,  34.]),\n",
       " <a list of 3 Patch objects>)"
      ]
     },
     "execution_count": 16,
     "metadata": {},
     "output_type": "execute_result"
    },
    {
     "data": {
      "image/png": "[encoded data removed]",
      "text/plain": [
       "<matplotlib.figure.Figure at 0xd053610>"
      ]
     },
     "metadata": {},
     "output_type": "display_data"
    }
   ],
   "source": [
    "fig, axs = plt.subplots()\n",
    "axs.hist(df2['% of 16 to 19 year-olds not in highschool and not highschool graduates'], bins=3)"
   ]
  },
  {
   "cell_type": "code",
   "execution_count": 17,
   "metadata": {},
   "outputs": [
    {
     "data": {
      "text/plain": [
       "(array([ 23.,  57.,  19.]),\n",
       " array([ 15.,  34.,  53.,  72.]),\n",
       " <a list of 3 Patch objects>)"
      ]
     },
     "execution_count": 17,
     "metadata": {},
     "output_type": "execute_result"
    },
    {
     "data": {
      "image/png": "[encoded data removed]",
      "text/plain": [
       "<matplotlib.figure.Figure at 0xd09c7b0>"
      ]
     },
     "metadata": {},
     "output_type": "display_data"
    }
   ],
   "source": [
    "fig, axs = plt.subplots()\n",
    "axs.hist(df2['25 only high school'], bins=3)"
   ]
  },
  {
   "cell_type": "code",
   "execution_count": 18,
   "metadata": {},
   "outputs": [
    {
     "data": {
      "text/html": [
       "<div>\n",
       "<style>\n",
       "    .dataframe thead tr:only-child th {\n",
       "        text-align: right;\n",
       "    }\n",
       "\n",
       "    .dataframe thead th {\n",
       "        text-align: left;\n",
       "    }\n",
       "\n",
       "    .dataframe tbody tr th {\n",
       "        vertical-align: top;\n",
       "    }\n",
       "</style>\n",
       "<table border=\"1\" class=\"dataframe\">\n",
       "  <thead>\n",
       "    <tr style=\"text-align: right;\">\n",
       "      <th></th>\n",
       "      <th>25 only high school</th>\n",
       "      <th>% of People 25 Years+ with 4 or more Years of High School</th>\n",
       "      <th>% of 16 to 19 year-olds not in highschool and not highschool graduates</th>\n",
       "      <th>% of 18 to 24 year-olds in college</th>\n",
       "      <th>% of people 25 years+ with at least 4 years of college</th>\n",
       "      <th>Annual Police Funding (Dollars per Resident)</th>\n",
       "    </tr>\n",
       "  </thead>\n",
       "  <tbody>\n",
       "    <tr>\n",
       "      <th>25 only high school</th>\n",
       "      <td>1.000000</td>\n",
       "      <td>0.863059</td>\n",
       "      <td>-0.361431</td>\n",
       "      <td>-0.165077</td>\n",
       "      <td>0.217960</td>\n",
       "      <td>0.074414</td>\n",
       "    </tr>\n",
       "    <tr>\n",
       "      <th>% of People 25 Years+ with 4 or more Years of High School</th>\n",
       "      <td>0.863059</td>\n",
       "      <td>1.000000</td>\n",
       "      <td>-0.537162</td>\n",
       "      <td>0.182364</td>\n",
       "      <td>0.681072</td>\n",
       "      <td>0.120265</td>\n",
       "    </tr>\n",
       "    <tr>\n",
       "      <th>% of 16 to 19 year-olds not in highschool and not highschool graduates</th>\n",
       "      <td>-0.361431</td>\n",
       "      <td>-0.537162</td>\n",
       "      <td>1.000000</td>\n",
       "      <td>-0.626953</td>\n",
       "      <td>-0.513958</td>\n",
       "      <td>0.311526</td>\n",
       "    </tr>\n",
       "    <tr>\n",
       "      <th>% of 18 to 24 year-olds in college</th>\n",
       "      <td>-0.165077</td>\n",
       "      <td>0.182364</td>\n",
       "      <td>-0.626953</td>\n",
       "      <td>1.000000</td>\n",
       "      <td>0.591663</td>\n",
       "      <td>-0.277475</td>\n",
       "    </tr>\n",
       "    <tr>\n",
       "      <th>% of people 25 years+ with at least 4 years of college</th>\n",
       "      <td>0.217960</td>\n",
       "      <td>0.681072</td>\n",
       "      <td>-0.513958</td>\n",
       "      <td>0.591663</td>\n",
       "      <td>1.000000</td>\n",
       "      <td>0.124502</td>\n",
       "    </tr>\n",
       "    <tr>\n",
       "      <th>Annual Police Funding (Dollars per Resident)</th>\n",
       "      <td>0.074414</td>\n",
       "      <td>0.120265</td>\n",
       "      <td>0.311526</td>\n",
       "      <td>-0.277475</td>\n",
       "      <td>0.124502</td>\n",
       "      <td>1.000000</td>\n",
       "    </tr>\n",
       "  </tbody>\n",
       "</table>\n",
       "</div>"
      ],
      "text/plain": [
       "                                                    25 only high school  \\\n",
       "25 only high school                                            1.000000   \n",
       "% of People 25 Years+ with 4 or more Years of H...             0.863059   \n",
       "% of 16 to 19 year-olds not in highschool and n...            -0.361431   \n",
       "% of 18 to 24 year-olds in college                            -0.165077   \n",
       "% of people 25 years+ with at least 4 years of ...             0.217960   \n",
       "Annual Police Funding (Dollars per Resident)                   0.074414   \n",
       "\n",
       "                                                    % of People 25 Years+ with 4 or more Years of High School  \\\n",
       "25 only high school                                                                          0.863059           \n",
       "% of People 25 Years+ with 4 or more Years of H...                                           1.000000           \n",
       "% of 16 to 19 year-olds not in highschool and n...                                          -0.537162           \n",
       "% of 18 to 24 year-olds in college                                                           0.182364           \n",
       "% of people 25 years+ with at least 4 years of ...                                           0.681072           \n",
       "Annual Police Funding (Dollars per Resident)                                                 0.120265           \n",
       "\n",
       "                                                    % of 16 to 19 year-olds not in highschool and not highschool graduates  \\\n",
       "25 only high school                                                                         -0.361431                        \n",
       "% of People 25 Years+ with 4 or more Years of H...                                          -0.537162                        \n",
       "% of 16 to 19 year-olds not in highschool and n...                                           1.000000                        \n",
       "% of 18 to 24 year-olds in college                                                          -0.626953                        \n",
       "% of people 25 years+ with at least 4 years of ...                                          -0.513958                        \n",
       "Annual Police Funding (Dollars per Resident)                                                 0.311526                        \n",
       "\n",
       "                                                    % of 18 to 24 year-olds in college  \\\n",
       "25 only high school                                                          -0.165077   \n",
       "% of People 25 Years+ with 4 or more Years of H...                            0.182364   \n",
       "% of 16 to 19 year-olds not in highschool and n...                           -0.626953   \n",
       "% of 18 to 24 year-olds in college                                            1.000000   \n",
       "% of people 25 years+ with at least 4 years of ...                            0.591663   \n",
       "Annual Police Funding (Dollars per Resident)                                 -0.277475   \n",
       "\n",
       "                                                    % of people 25 years+ with at least 4 years of college  \\\n",
       "25 only high school                                                                          0.217960        \n",
       "% of People 25 Years+ with 4 or more Years of H...                                           0.681072        \n",
       "% of 16 to 19 year-olds not in highschool and n...                                          -0.513958        \n",
       "% of 18 to 24 year-olds in college                                                           0.591663        \n",
       "% of people 25 years+ with at least 4 years of ...                                           1.000000        \n",
       "Annual Police Funding (Dollars per Resident)                                                 0.124502        \n",
       "\n",
       "                                                    Annual Police Funding (Dollars per Resident)  \n",
       "25 only high school                                                                     0.074414  \n",
       "% of People 25 Years+ with 4 or more Years of H...                                      0.120265  \n",
       "% of 16 to 19 year-olds not in highschool and n...                                      0.311526  \n",
       "% of 18 to 24 year-olds in college                                                     -0.277475  \n",
       "% of people 25 years+ with at least 4 years of ...                                      0.124502  \n",
       "Annual Police Funding (Dollars per Resident)                                            1.000000  "
      ]
     },
     "execution_count": 18,
     "metadata": {},
     "output_type": "execute_result"
    }
   ],
   "source": [
    "df3[['25 only high school',\n",
    "     '% of People 25 Years+ with 4 or more Years of High School', \n",
    "     '% of 16 to 19 year-olds not in highschool and not highschool graduates', \n",
    "     '% of 18 to 24 year-olds in college', \n",
    "     '% of people 25 years+ with at least 4 years of college',\n",
    "     'Annual Police Funding (Dollars per Resident)'\n",
    "    ]].corr()\n",
    "# Need to remove correlated variables (>=0.5 or <=-0.5)"
   ]
  },
  {
   "cell_type": "code",
   "execution_count": 19,
   "metadata": {},
   "outputs": [
    {
     "data": {
      "text/html": [
       "<div>\n",
       "<style>\n",
       "    .dataframe thead tr:only-child th {\n",
       "        text-align: right;\n",
       "    }\n",
       "\n",
       "    .dataframe thead th {\n",
       "        text-align: left;\n",
       "    }\n",
       "\n",
       "    .dataframe tbody tr th {\n",
       "        vertical-align: top;\n",
       "    }\n",
       "</style>\n",
       "<table border=\"1\" class=\"dataframe\">\n",
       "  <thead>\n",
       "    <tr style=\"text-align: right;\">\n",
       "      <th></th>\n",
       "      <th>25 only high school</th>\n",
       "      <th>% of 16 to 19 year-olds not in highschool and not highschool graduates</th>\n",
       "      <th>Annual Police Funding (Dollars per Resident)</th>\n",
       "    </tr>\n",
       "  </thead>\n",
       "  <tbody>\n",
       "    <tr>\n",
       "      <th>25 only high school</th>\n",
       "      <td>1.000000</td>\n",
       "      <td>-0.361431</td>\n",
       "      <td>0.074414</td>\n",
       "    </tr>\n",
       "    <tr>\n",
       "      <th>% of 16 to 19 year-olds not in highschool and not highschool graduates</th>\n",
       "      <td>-0.361431</td>\n",
       "      <td>1.000000</td>\n",
       "      <td>0.311526</td>\n",
       "    </tr>\n",
       "    <tr>\n",
       "      <th>Annual Police Funding (Dollars per Resident)</th>\n",
       "      <td>0.074414</td>\n",
       "      <td>0.311526</td>\n",
       "      <td>1.000000</td>\n",
       "    </tr>\n",
       "  </tbody>\n",
       "</table>\n",
       "</div>"
      ],
      "text/plain": [
       "                                                    25 only high school  \\\n",
       "25 only high school                                            1.000000   \n",
       "% of 16 to 19 year-olds not in highschool and n...            -0.361431   \n",
       "Annual Police Funding (Dollars per Resident)                   0.074414   \n",
       "\n",
       "                                                    % of 16 to 19 year-olds not in highschool and not highschool graduates  \\\n",
       "25 only high school                                                                         -0.361431                        \n",
       "% of 16 to 19 year-olds not in highschool and n...                                           1.000000                        \n",
       "Annual Police Funding (Dollars per Resident)                                                 0.311526                        \n",
       "\n",
       "                                                    Annual Police Funding (Dollars per Resident)  \n",
       "25 only high school                                                                     0.074414  \n",
       "% of 16 to 19 year-olds not in highschool and n...                                      0.311526  \n",
       "Annual Police Funding (Dollars per Resident)                                            1.000000  "
      ]
     },
     "execution_count": 19,
     "metadata": {},
     "output_type": "execute_result"
    }
   ],
   "source": [
    "df3[['25 only high school', \n",
    "     '% of 16 to 19 year-olds not in highschool and not highschool graduates', \n",
    "     'Annual Police Funding (Dollars per Resident)'\n",
    "    ]].corr()\n",
    "# No correlated predictors exist"
   ]
  },
  {
   "cell_type": "code",
   "execution_count": 20,
   "metadata": {},
   "outputs": [
    {
     "name": "stdout",
     "output_type": "stream",
     "text": [
      "Coefficients:\n",
      "[[  6.56921267  -7.15607376   4.62691258]\n",
      " [ -3.83894341 -14.24707938   7.67059587]\n",
      " [ 10.87691529  -9.576504     2.62668598]]\n",
      "Mean Coeff:  [  4.53572818 -10.32655238   4.97473148]\n",
      "Mean MSE: 23337.46 (+/- 21453.24)\n",
      "Mean R2: 0.27 (+/- 0.42)\n"
     ]
    },
    {
     "data": {
      "text/plain": [
       "<matplotlib.collections.PathCollection at 0xe6468f0>"
      ]
     },
     "execution_count": 20,
     "metadata": {},
     "output_type": "execute_result"
    },
    {
     "data": {
      "image/png": "[encoded data removed]",
      "text/plain": [
       "<matplotlib.figure.Figure at 0xe5ceff0>"
      ]
     },
     "metadata": {},
     "output_type": "display_data"
    }
   ],
   "source": [
    "# Split the data into training/testing sets\n",
    "train = df3[(df3['Crime Rate \\n(per 1M Residents)']<1000)]\n",
    "train = train[(train['% of 16 to 19 year-olds not in highschool and not highschool graduates']>10) &\n",
    "              (train['% of 16 to 19 year-olds not in highschool and not highschool graduates']<30)]\n",
    "train = train[(train['Annual Police Funding (Dollars per Resident)']>25) & \n",
    "                  (train['Annual Police Funding (Dollars per Resident)']<70)]\n",
    "\n",
    "x_train = train.loc[:,['% of 16 to 19 year-olds not in highschool and not highschool graduates',\n",
    "                         '25 only high school',\n",
    "                         'Annual Police Funding (Dollars per Resident)'\n",
    "                        ]]\n",
    "y_train = train.loc[:,'Crime Rate \\n(per 1M Residents)']\n",
    "\n",
    "# Create linear regression object\n",
    "regr = linear_model.LinearRegression()\n",
    "\n",
    "# Generate training and testing indices for a given fold\n",
    "n_folds=3\n",
    "kf = KFold(n_folds)\n",
    "kf.get_n_splits(x_train)\n",
    "\n",
    "# Create arrays to store model results from each fold\n",
    "coeff = np.empty([n_folds, x_train.shape[1]], dtype=float)\n",
    "r2 = np.empty(n_folds, dtype=float)\n",
    "mse = np.empty(n_folds, dtype=float)\n",
    "\n",
    "i = 0\n",
    "for traincv, testcv in kf.split(x_train):\n",
    "        #test model on a single fold after fitting model on remaining folds\n",
    "        y_pred = regr.fit(x_train.iloc[traincv], y_train.iloc[traincv]).predict(x_train.iloc[testcv])\n",
    "        coeff[i] = regr.coef_\n",
    "        r2[i] = r2_score(y_train.iloc[testcv], y_pred)\n",
    "        mse[i] = mean_squared_error(y_train.iloc[testcv], y_pred)\n",
    "        i += 1\n",
    "\n",
    "print(\"Coefficients:\")\n",
    "print(coeff)\n",
    "print(\"Mean Coeff: \", coeff.mean(axis=0))\n",
    "#print(mse)\n",
    "print(\"Mean MSE: %0.2f (+/- %0.2f)\" % (mse.mean(), mse.std() * 2))\n",
    "print(\"Mean R2: %0.2f (+/- %0.2f)\" % (r2.mean(), r2.std() * 2))\n",
    "\n",
    "# Compute predictions on entire training data using the coefficient matrix\n",
    "y_pred = np.matmul(x_train, coeff.mean(axis=0))\n",
    "\n",
    "# Plot actual vs predicted values and check for closeness to linearity (y=x line)\n",
    "plt.scatter(y_train, y_pred,  color='black')"
   ]
  },
  {
   "cell_type": "code",
   "execution_count": 21,
   "metadata": {},
   "outputs": [],
   "source": [
    "# I also considered polynomial and interaction effects, but R2 was not good enough on validation set\n",
    "# Final equation: (Crime rate) = 4.5 * ('% of 16 to 19 year-olds not in highschool and not highschool graduates') \n",
    "#                                 - 10.3 * ('25 only high school') \n",
    "#                                 + 5 * ('Annual Police Funding (Dollars per Resident)')"
   ]
  },
  {
   "cell_type": "code",
   "execution_count": null,
   "metadata": {},
   "outputs": [],
   "source": []
  }
 ],
 "metadata": {
  "kernelspec": {
   "display_name": "Python 3",
   "language": "python",
   "name": "python3"
  },
  "language_info": {
   "codemirror_mode": {
    "name": "ipython",
    "version": 3
   },
   "file_extension": ".py",
   "mimetype": "text/x-python",
   "name": "python",
   "nbconvert_exporter": "python",
   "pygments_lexer": "ipython3",
   "version": "3.6.1"
  }
 },
 "nbformat": 4,
 "nbformat_minor": 2
}
